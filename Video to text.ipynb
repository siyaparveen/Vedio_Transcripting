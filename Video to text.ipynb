{
 "cells": [
  {
   "cell_type": "code",
   "execution_count": 24,
   "id": "97fac75f-e483-44b5-bdfc-9dc9966b4e8c",
   "metadata": {},
   "outputs": [
    {
     "name": "stdout",
     "output_type": "stream",
     "text": [
      "Requirement already satisfied: youtube-dl in c:\\users\\adiki\\appdata\\local\\programs\\python\\python311\\lib\\site-packages (2021.12.17)Note: you may need to restart the kernel to use updated packages.\n",
      "\n"
     ]
    }
   ],
   "source": [
    "pip install youtube-dl"
   ]
  },
  {
   "cell_type": "code",
   "execution_count": 28,
   "id": "bfd68bc9-fcfa-4f38-879a-dd6f7c19dd00",
   "metadata": {},
   "outputs": [
    {
     "name": "stdout",
     "output_type": "stream",
     "text": [
      "Requirement already satisfied: ffmpeg in c:\\users\\adiki\\appdata\\local\\programs\\python\\python311\\lib\\site-packages (1.4)Note: you may need to restart the kernel to use updated packages.\n",
      "\n"
     ]
    }
   ],
   "source": [
    "pip install ffmpeg"
   ]
  },
  {
   "cell_type": "code",
   "execution_count": 29,
   "id": "f01b6c06-5170-41a4-9438-1f8c26ae63d8",
   "metadata": {},
   "outputs": [],
   "source": [
    "import subprocess\n",
    "from ibm_watson import SpeechToTextV1\n",
    "from ibm_watson.websocket import RecognizeCallback, AudioSource\n",
    "from ibm_cloud_sdk_core.authenticators import IAMAuthenticator"
   ]
  },
  {
   "cell_type": "code",
   "execution_count": 53,
   "id": "09940504-9d67-4a14-834e-3050c54a1e48",
   "metadata": {},
   "outputs": [
    {
     "data": {
      "text/plain": [
       "1"
      ]
     },
     "execution_count": 53,
     "metadata": {},
     "output_type": "execute_result"
    }
   ],
   "source": [
    "command = 'ffmpeg -i aml.mkv -ab 160k -ar 44100 -vn audio.wav'\n",
    "subprocess.call(command, shell=True)\n"
   ]
  },
  {
   "cell_type": "code",
   "execution_count": 47,
   "id": "8a85ab7c-5c3d-48af-977b-ae4252a2fdfa",
   "metadata": {},
   "outputs": [],
   "source": [
    "apikey = 'Y5A-UhrmhvpqI9_h4cBXgWFm5PCrPZtnFQS1YSU7hPeU'\n",
    "url = 'https://api.au-syd.speech-to-text.watson.cloud.ibm.com/instances/a0801454-22b7-454b-8803-e37d4c2891fa'"
   ]
  },
  {
   "cell_type": "code",
   "execution_count": 48,
   "id": "3ed6a8b7-2afd-437b-b3a5-06eb0de0522c",
   "metadata": {},
   "outputs": [],
   "source": [
    "# Setup service\n",
    "authenticator = IAMAuthenticator(apikey)\n",
    "stt = SpeechToTextV1(authenticator=authenticator)\n",
    "stt.set_service_url(url)"
   ]
  },
  {
   "cell_type": "code",
   "execution_count": null,
   "id": "2dea78e0-fb8f-4823-97d8-2d40187949d5",
   "metadata": {},
   "outputs": [],
   "source": [
    "with open('audio.wav', 'rb') as f:\n",
    "    res = stt.recognize(audio=f, content_type='audio/wav', model='en-AU_NarrowbandModel', continuous=True).get_result()"
   ]
  }
 ],
 "metadata": {
  "kernelspec": {
   "display_name": "Python 3 (ipykernel)",
   "language": "python",
   "name": "python3"
  },
  "language_info": {
   "codemirror_mode": {
    "name": "ipython",
    "version": 3
   },
   "file_extension": ".py",
   "mimetype": "text/x-python",
   "name": "python",
   "nbconvert_exporter": "python",
   "pygments_lexer": "ipython3",
   "version": "3.11.4"
  }
 },
 "nbformat": 4,
 "nbformat_minor": 5
}
